{
 "cells": [
  {
   "cell_type": "markdown",
   "metadata": {
    "id": "vziCwtYSvpav"
   },
   "source": [
    "<br>\n",
    "<h1 style = \"font-size:30px; font-family:monospace ; font-weight : bold; color : #AE0052; text-align: center; border-radius: 10px 10px;\">☔Rain Prediction in Australia☔</h1>\n",
    "<br>"
   ]
  },
  {
   "cell_type": "markdown",
   "metadata": {
    "id": "qrhh_RHuvpav"
   },
   "source": [
    "![](https://media0.giphy.com/media/tkMeNtj9FQYx2/giphy.gif)"
   ]
  },
  {
   "cell_type": "markdown",
   "metadata": {
    "id": "mRQUWnirvpaw"
   },
   "source": [
    "<span style=\"font-size:20px;color:#0026D8;font-weight : bold\">Dataset Description:</span>\n",
    "\n",
    "**This dataset contains daily weather observations from numerous Australian weather stations.**\n",
    "- **Date** - The date of observation<br>\n",
    "- **Location** - The common name of the location of the weather station<br>\n",
    "- **MinTemp** - The minimum temperature in degrees celsius<br>\n",
    "- **MaxTemp** - The maximum temperature in degrees celsius<br>\n",
    "- **Rainfall** - The amount of rainfall recorded for the day in mm<br>\n",
    "- **Evaporation** - The so-called Class A pan evaporation (mm) in the 24 hours to 9am<br>\n",
    "- **Sunshine** - The number of hours of bright sunshine in the day.<br>\n",
    "- **WindGustDir** - The direction of the strongest wind gust in the 24 hours to midnight<br>\n",
    "- **WindGustSpeed** - The speed (km/h) of the strongest wind gust in the 24 hours to midnight<br>\n",
    "- **WindDir9am** - Direction of the wind at 9am<br>\n",
    "- **WindDir3pm** - Direction of the wind at 3pm<br>\n",
    "- **WindSpeed9am** - Wind speed (km/hr) averaged over 10 minutes prior to 9am<br>\n",
    "- **WindSpeed3pm** - Wind speed (km/hr) averaged over 10 minutes prior to 3pm<br>\n",
    "- **Humidity9am** - Humidity (percent) at 9am<br>\n",
    "- **Humidity3pm** - Humidity (percent) at 3pm<br>\n",
    "- **Pressure9am** - Atmospheric pressure (hpa) reduced to mean sea level at 9am<br>\n",
    "- **Pressure3pm** - Atmospheric pressure (hpa) reduced to mean sea level at 3pm<br>\n",
    "- **Cloud9am** - Fraction of sky obscured by cloud at 9am. This is measured in \"oktas\", which are a unit of                    eigths. It records how many eigths of the sky are obscured by cloud. A 0 measure indicates                    completely clear sky whilst an 8 indicates that it is completely overcast.<br>\n",
    "- **Cloud3pm** - Fraction of sky obscured by cloud (in \"oktas\": eighths) at 3pm. See Cload9am for a description                of the values<br>\n",
    "- **Temp9am** - Temperature (degrees C) at 9am<br>\n",
    "- **Temp3pm** - Temperature (degrees C) at 3pm<br>\n",
    "- **RainToday** - Boolean: 1 if precipitation (mm) in the 24 hours to 9am exceeds 1mm, otherwise 0<br>\n",
    "- **RainTomorrow** - The target variable. Will it rain tomorrow?"
   ]
  },
  {
   "cell_type": "markdown",
   "metadata": {
    "id": "rsH1_6fPvpaw"
   },
   "source": [
    "<h1 style=\"background-color:#ABFF9B;font-size:20px;color:#00033E;font-weight : bold\">Useful documentations</h1>"
   ]
  },
  {
   "cell_type": "markdown",
   "metadata": {
    "id": "tEcIZ5qdvpax"
   },
   "source": [
    "- **Logistic Regression** : https://scikit-learn.org/stable/modules/generated/sklearn.linear_model.LogisticRegression.html <br>\n",
    "- **SVM** : https://scikit-learn.org/stable/modules/svm.html <br>\n",
    "- **Confusion Matrix** : https://scikit-learn.org/stable/modules/generated/sklearn.metrics.confusion_matrix.html <br>\n",
    "- **Plot Confusion Matrix** : https://scikit-learn.org/stable/modules/generated/sklearn.metrics.plot_confusion_matrix.html <br>\n",
    "- **ROC_AUC Score** : https://scikit-learn.org/stable/modules/generated/sklearn.metrics.roc_auc_score.html#sklearn.metrics.roc_auc_score <br>\n",
    "- **Classification Report** : https://scikit-learn.org/stable/modules/generated/sklearn.metrics.classification_report.html <br>\n",
    "- **Label Encoder** : https://scikit-learn.org/stable/modules/generated/sklearn.preprocessing.LabelEncoder.html <br>\n",
    "- **Label Binarizer** : https://scikit-learn.org/stable/modules/generated/sklearn.preprocessing.LabelBinarizer.html <br>\n",
    "- **Standard Scaler** : https://scikit-learn.org/stable/modules/generated/sklearn.preprocessing.StandardScaler.html <br>\n",
    "- **Cross Val Score** : https://scikit-learn.org/stable/modules/generated/sklearn.model_selection.cross_val_score.html <br>\n",
    "\n"
   ]
  },
  {
   "cell_type": "code",
   "execution_count": 9,
   "metadata": {
    "id": "1_Q5m8Xmvpax",
    "outputId": "1acb512f-6742-4e5b-e337-aca067972937"
   },
   "outputs": [
    {
     "data": {
      "text/html": [
       "\n",
       "<style>\n",
       "h1,h2,h3 {\n",
       "\tmargin: 1em 0 0.5em 0;\n",
       "\tfont-weight: 600;\n",
       "\tfont-family: 'Titillium Web', sans-serif;\n",
       "\tposition: relative;  \n",
       "\tfont-size: 36px;\n",
       "\tline-height: 40px;\n",
       "\tpadding: 15px 15px 15px 2.5%;\n",
       "\tcolor: #13003A;\n",
       "\tbox-shadow: \n",
       "\t\tinset 0 0 0 1px rgba(53,86,129, 1), \n",
       "\t\tinset 0 0 5px rgba(53,86,129, 1),\n",
       "\t\tinset -285px 0 35px white;\n",
       "\tborder-radius: 0 10px 0 15px;\n",
       "\tbackground: #fff\n",
       "    \n",
       "}\n",
       "</style>\n"
      ],
      "text/plain": [
       "<IPython.core.display.HTML object>"
      ]
     },
     "execution_count": 9,
     "metadata": {},
     "output_type": "execute_result"
    }
   ],
   "source": [
    "from IPython.display import HTML\n",
    "HTML(\"\"\"\n",
    "<style>\n",
    "h1,h2,h3 {\n",
    "\tmargin: 1em 0 0.5em 0;\n",
    "\tfont-weight: 600;\n",
    "\tfont-family: 'Titillium Web', sans-serif;\n",
    "\tposition: relative;  \n",
    "\tfont-size: 36px;\n",
    "\tline-height: 40px;\n",
    "\tpadding: 15px 15px 15px 2.5%;\n",
    "\tcolor: #13003A;\n",
    "\tbox-shadow: \n",
    "\t\tinset 0 0 0 1px rgba(53,86,129, 1), \n",
    "\t\tinset 0 0 5px rgba(53,86,129, 1),\n",
    "\t\tinset -285px 0 35px white;\n",
    "\tborder-radius: 0 10px 0 15px;\n",
    "\tbackground: #fff\n",
    "    \n",
    "}\n",
    "</style>\n",
    "\"\"\")\n",
    "\n",
    "\n",
    "## ================================ ##"
   ]
  },
  {
   "cell_type": "markdown",
   "metadata": {
    "id": "tQG2K5CQvpaz"
   },
   "source": [
    "<h1 style=\"background-color:#ABFF9B;font-size:20px;color:#00033E;font-weight : bold\">✅ Importing Required Libraries</h1>"
   ]
  },
  {
   "cell_type": "code",
   "execution_count": 10,
   "metadata": {
    "id": "DHyUvB8tvpa0"
   },
   "outputs": [],
   "source": [
    "import numpy as np\n",
    "import pandas as pd\n",
    "import matplotlib.pyplot as plt\n",
    "import seaborn as sns\n",
    "\n",
    "\n",
    "from sklearn.linear_model import LogisticRegression\n",
    "from sklearn.svm import SVC\n",
    "\n",
    "\n",
    "\n",
    "from sklearn.metrics import confusion_matrix\n",
    "from sklearn.metrics import plot_confusion_matrix\n",
    "from sklearn.metrics import classification_report\n",
    "from sklearn.metrics import accuracy_score\n",
    "from sklearn.metrics import roc_auc_score\n",
    "from sklearn.metrics import roc_curve\n",
    "\n",
    "\n",
    "\n",
    "\n",
    "from sklearn.preprocessing import LabelBinarizer\n",
    "from sklearn.preprocessing import OneHotEncoder\n",
    "from sklearn.preprocessing import StandardScaler\n",
    "\n",
    "\n",
    "\n",
    "from sklearn.model_selection import train_test_split\n",
    "from sklearn.model_selection import cross_val_score\n",
    "import warnings\n",
    "warnings.filterwarnings(\"ignore\")"
   ]
  },
  {
   "cell_type": "markdown",
   "metadata": {
    "id": "r-tHNg8qvpa0"
   },
   "source": [
    "<h1 style=\"background-color:#ABFF9B;font-size:20px;color:#00033E;font-weight : bold\">Reading the data </h1>"
   ]
  },
  {
   "cell_type": "code",
   "execution_count": 11,
   "metadata": {
    "id": "m-owrU7vvpa0"
   },
   "outputs": [
    {
     "data": {
      "text/html": [
       "<div>\n",
       "<style scoped>\n",
       "    .dataframe tbody tr th:only-of-type {\n",
       "        vertical-align: middle;\n",
       "    }\n",
       "\n",
       "    .dataframe tbody tr th {\n",
       "        vertical-align: top;\n",
       "    }\n",
       "\n",
       "    .dataframe thead th {\n",
       "        text-align: right;\n",
       "    }\n",
       "</style>\n",
       "<table border=\"1\" class=\"dataframe\">\n",
       "  <thead>\n",
       "    <tr style=\"text-align: right;\">\n",
       "      <th></th>\n",
       "      <th>Date</th>\n",
       "      <th>Location</th>\n",
       "      <th>MinTemp</th>\n",
       "      <th>MaxTemp</th>\n",
       "      <th>Rainfall</th>\n",
       "      <th>Evaporation</th>\n",
       "      <th>Sunshine</th>\n",
       "      <th>WindGustDir</th>\n",
       "      <th>WindGustSpeed</th>\n",
       "      <th>WindDir9am</th>\n",
       "      <th>...</th>\n",
       "      <th>Humidity9am</th>\n",
       "      <th>Humidity3pm</th>\n",
       "      <th>Pressure9am</th>\n",
       "      <th>Pressure3pm</th>\n",
       "      <th>Cloud9am</th>\n",
       "      <th>Cloud3pm</th>\n",
       "      <th>Temp9am</th>\n",
       "      <th>Temp3pm</th>\n",
       "      <th>RainToday</th>\n",
       "      <th>RainTomorrow</th>\n",
       "    </tr>\n",
       "  </thead>\n",
       "  <tbody>\n",
       "    <tr>\n",
       "      <th>0</th>\n",
       "      <td>2856</td>\n",
       "      <td>11</td>\n",
       "      <td>18.3</td>\n",
       "      <td>35.4</td>\n",
       "      <td>0.0</td>\n",
       "      <td>10.7</td>\n",
       "      <td>8.2</td>\n",
       "      <td>15</td>\n",
       "      <td>31</td>\n",
       "      <td>0</td>\n",
       "      <td>...</td>\n",
       "      <td>17</td>\n",
       "      <td>14</td>\n",
       "      <td>1012.8</td>\n",
       "      <td>1010.7</td>\n",
       "      <td>3</td>\n",
       "      <td>7</td>\n",
       "      <td>26.3</td>\n",
       "      <td>34.0</td>\n",
       "      <td>0</td>\n",
       "      <td>1</td>\n",
       "    </tr>\n",
       "    <tr>\n",
       "      <th>1</th>\n",
       "      <td>575</td>\n",
       "      <td>0</td>\n",
       "      <td>12.0</td>\n",
       "      <td>21.1</td>\n",
       "      <td>0.0</td>\n",
       "      <td>2.4</td>\n",
       "      <td>4.9</td>\n",
       "      <td>11</td>\n",
       "      <td>22</td>\n",
       "      <td>15</td>\n",
       "      <td>...</td>\n",
       "      <td>70</td>\n",
       "      <td>60</td>\n",
       "      <td>1022.3</td>\n",
       "      <td>1020.2</td>\n",
       "      <td>2</td>\n",
       "      <td>7</td>\n",
       "      <td>16.2</td>\n",
       "      <td>19.4</td>\n",
       "      <td>0</td>\n",
       "      <td>0</td>\n",
       "    </tr>\n",
       "    <tr>\n",
       "      <th>2</th>\n",
       "      <td>2037</td>\n",
       "      <td>6</td>\n",
       "      <td>11.9</td>\n",
       "      <td>17.0</td>\n",
       "      <td>1.6</td>\n",
       "      <td>5.6</td>\n",
       "      <td>0.8</td>\n",
       "      <td>5</td>\n",
       "      <td>48</td>\n",
       "      <td>4</td>\n",
       "      <td>...</td>\n",
       "      <td>71</td>\n",
       "      <td>88</td>\n",
       "      <td>1008.4</td>\n",
       "      <td>1004.7</td>\n",
       "      <td>7</td>\n",
       "      <td>7</td>\n",
       "      <td>14.6</td>\n",
       "      <td>13.3</td>\n",
       "      <td>1</td>\n",
       "      <td>1</td>\n",
       "    </tr>\n",
       "    <tr>\n",
       "      <th>3</th>\n",
       "      <td>2010</td>\n",
       "      <td>19</td>\n",
       "      <td>1.3</td>\n",
       "      <td>10.2</td>\n",
       "      <td>4.2</td>\n",
       "      <td>2.6</td>\n",
       "      <td>4.4</td>\n",
       "      <td>15</td>\n",
       "      <td>33</td>\n",
       "      <td>15</td>\n",
       "      <td>...</td>\n",
       "      <td>87</td>\n",
       "      <td>64</td>\n",
       "      <td>1018.4</td>\n",
       "      <td>1016.8</td>\n",
       "      <td>7</td>\n",
       "      <td>7</td>\n",
       "      <td>3.8</td>\n",
       "      <td>8.5</td>\n",
       "      <td>1</td>\n",
       "      <td>0</td>\n",
       "    </tr>\n",
       "    <tr>\n",
       "      <th>4</th>\n",
       "      <td>2895</td>\n",
       "      <td>18</td>\n",
       "      <td>23.7</td>\n",
       "      <td>31.5</td>\n",
       "      <td>0.0</td>\n",
       "      <td>11.0</td>\n",
       "      <td>12.1</td>\n",
       "      <td>4</td>\n",
       "      <td>35</td>\n",
       "      <td>2</td>\n",
       "      <td>...</td>\n",
       "      <td>53</td>\n",
       "      <td>50</td>\n",
       "      <td>1014.2</td>\n",
       "      <td>1010.2</td>\n",
       "      <td>3</td>\n",
       "      <td>1</td>\n",
       "      <td>29.1</td>\n",
       "      <td>30.4</td>\n",
       "      <td>0</td>\n",
       "      <td>0</td>\n",
       "    </tr>\n",
       "    <tr>\n",
       "      <th>...</th>\n",
       "      <td>...</td>\n",
       "      <td>...</td>\n",
       "      <td>...</td>\n",
       "      <td>...</td>\n",
       "      <td>...</td>\n",
       "      <td>...</td>\n",
       "      <td>...</td>\n",
       "      <td>...</td>\n",
       "      <td>...</td>\n",
       "      <td>...</td>\n",
       "      <td>...</td>\n",
       "      <td>...</td>\n",
       "      <td>...</td>\n",
       "      <td>...</td>\n",
       "      <td>...</td>\n",
       "      <td>...</td>\n",
       "      <td>...</td>\n",
       "      <td>...</td>\n",
       "      <td>...</td>\n",
       "      <td>...</td>\n",
       "      <td>...</td>\n",
       "    </tr>\n",
       "    <tr>\n",
       "      <th>24191</th>\n",
       "      <td>3231</td>\n",
       "      <td>16</td>\n",
       "      <td>20.8</td>\n",
       "      <td>24.4</td>\n",
       "      <td>0.0</td>\n",
       "      <td>7.6</td>\n",
       "      <td>7.9</td>\n",
       "      <td>1</td>\n",
       "      <td>48</td>\n",
       "      <td>4</td>\n",
       "      <td>...</td>\n",
       "      <td>56</td>\n",
       "      <td>56</td>\n",
       "      <td>1019.3</td>\n",
       "      <td>1016.6</td>\n",
       "      <td>5</td>\n",
       "      <td>2</td>\n",
       "      <td>23.0</td>\n",
       "      <td>23.8</td>\n",
       "      <td>0</td>\n",
       "      <td>0</td>\n",
       "    </tr>\n",
       "    <tr>\n",
       "      <th>24192</th>\n",
       "      <td>3405</td>\n",
       "      <td>16</td>\n",
       "      <td>10.7</td>\n",
       "      <td>20.1</td>\n",
       "      <td>0.6</td>\n",
       "      <td>1.2</td>\n",
       "      <td>6.4</td>\n",
       "      <td>13</td>\n",
       "      <td>22</td>\n",
       "      <td>13</td>\n",
       "      <td>...</td>\n",
       "      <td>89</td>\n",
       "      <td>69</td>\n",
       "      <td>1027.9</td>\n",
       "      <td>1024.4</td>\n",
       "      <td>2</td>\n",
       "      <td>6</td>\n",
       "      <td>11.9</td>\n",
       "      <td>18.7</td>\n",
       "      <td>0</td>\n",
       "      <td>0</td>\n",
       "    </tr>\n",
       "    <tr>\n",
       "      <th>24193</th>\n",
       "      <td>638</td>\n",
       "      <td>17</td>\n",
       "      <td>9.5</td>\n",
       "      <td>21.6</td>\n",
       "      <td>0.0</td>\n",
       "      <td>2.8</td>\n",
       "      <td>4.9</td>\n",
       "      <td>13</td>\n",
       "      <td>28</td>\n",
       "      <td>6</td>\n",
       "      <td>...</td>\n",
       "      <td>72</td>\n",
       "      <td>36</td>\n",
       "      <td>1019.2</td>\n",
       "      <td>1013.8</td>\n",
       "      <td>7</td>\n",
       "      <td>1</td>\n",
       "      <td>12.7</td>\n",
       "      <td>21.1</td>\n",
       "      <td>0</td>\n",
       "      <td>0</td>\n",
       "    </tr>\n",
       "    <tr>\n",
       "      <th>24194</th>\n",
       "      <td>987</td>\n",
       "      <td>11</td>\n",
       "      <td>5.5</td>\n",
       "      <td>9.0</td>\n",
       "      <td>0.8</td>\n",
       "      <td>0.8</td>\n",
       "      <td>0.6</td>\n",
       "      <td>8</td>\n",
       "      <td>43</td>\n",
       "      <td>7</td>\n",
       "      <td>...</td>\n",
       "      <td>91</td>\n",
       "      <td>83</td>\n",
       "      <td>1018.4</td>\n",
       "      <td>1017.9</td>\n",
       "      <td>8</td>\n",
       "      <td>8</td>\n",
       "      <td>7.1</td>\n",
       "      <td>7.8</td>\n",
       "      <td>0</td>\n",
       "      <td>1</td>\n",
       "    </tr>\n",
       "    <tr>\n",
       "      <th>24195</th>\n",
       "      <td>1143</td>\n",
       "      <td>8</td>\n",
       "      <td>19.5</td>\n",
       "      <td>31.8</td>\n",
       "      <td>0.0</td>\n",
       "      <td>13.4</td>\n",
       "      <td>6.3</td>\n",
       "      <td>4</td>\n",
       "      <td>50</td>\n",
       "      <td>0</td>\n",
       "      <td>...</td>\n",
       "      <td>52</td>\n",
       "      <td>37</td>\n",
       "      <td>1008.0</td>\n",
       "      <td>1006.3</td>\n",
       "      <td>3</td>\n",
       "      <td>5</td>\n",
       "      <td>24.2</td>\n",
       "      <td>30.3</td>\n",
       "      <td>0</td>\n",
       "      <td>0</td>\n",
       "    </tr>\n",
       "  </tbody>\n",
       "</table>\n",
       "<p>24196 rows × 23 columns</p>\n",
       "</div>"
      ],
      "text/plain": [
       "       Date  Location  MinTemp  MaxTemp  Rainfall  Evaporation  Sunshine  \\\n",
       "0      2856        11     18.3     35.4       0.0         10.7       8.2   \n",
       "1       575         0     12.0     21.1       0.0          2.4       4.9   \n",
       "2      2037         6     11.9     17.0       1.6          5.6       0.8   \n",
       "3      2010        19      1.3     10.2       4.2          2.6       4.4   \n",
       "4      2895        18     23.7     31.5       0.0         11.0      12.1   \n",
       "...     ...       ...      ...      ...       ...          ...       ...   \n",
       "24191  3231        16     20.8     24.4       0.0          7.6       7.9   \n",
       "24192  3405        16     10.7     20.1       0.6          1.2       6.4   \n",
       "24193   638        17      9.5     21.6       0.0          2.8       4.9   \n",
       "24194   987        11      5.5      9.0       0.8          0.8       0.6   \n",
       "24195  1143         8     19.5     31.8       0.0         13.4       6.3   \n",
       "\n",
       "       WindGustDir  WindGustSpeed  WindDir9am  ...  Humidity9am  Humidity3pm  \\\n",
       "0               15             31           0  ...           17           14   \n",
       "1               11             22          15  ...           70           60   \n",
       "2                5             48           4  ...           71           88   \n",
       "3               15             33          15  ...           87           64   \n",
       "4                4             35           2  ...           53           50   \n",
       "...            ...            ...         ...  ...          ...          ...   \n",
       "24191            1             48           4  ...           56           56   \n",
       "24192           13             22          13  ...           89           69   \n",
       "24193           13             28           6  ...           72           36   \n",
       "24194            8             43           7  ...           91           83   \n",
       "24195            4             50           0  ...           52           37   \n",
       "\n",
       "       Pressure9am  Pressure3pm  Cloud9am  Cloud3pm  Temp9am  Temp3pm  \\\n",
       "0           1012.8       1010.7         3         7     26.3     34.0   \n",
       "1           1022.3       1020.2         2         7     16.2     19.4   \n",
       "2           1008.4       1004.7         7         7     14.6     13.3   \n",
       "3           1018.4       1016.8         7         7      3.8      8.5   \n",
       "4           1014.2       1010.2         3         1     29.1     30.4   \n",
       "...            ...          ...       ...       ...      ...      ...   \n",
       "24191       1019.3       1016.6         5         2     23.0     23.8   \n",
       "24192       1027.9       1024.4         2         6     11.9     18.7   \n",
       "24193       1019.2       1013.8         7         1     12.7     21.1   \n",
       "24194       1018.4       1017.9         8         8      7.1      7.8   \n",
       "24195       1008.0       1006.3         3         5     24.2     30.3   \n",
       "\n",
       "       RainToday  RainTomorrow  \n",
       "0              0             1  \n",
       "1              0             0  \n",
       "2              1             1  \n",
       "3              1             0  \n",
       "4              0             0  \n",
       "...          ...           ...  \n",
       "24191          0             0  \n",
       "24192          0             0  \n",
       "24193          0             0  \n",
       "24194          0             1  \n",
       "24195          0             0  \n",
       "\n",
       "[24196 rows x 23 columns]"
      ]
     },
     "execution_count": 11,
     "metadata": {},
     "output_type": "execute_result"
    }
   ],
   "source": [
    "df = pd.read_csv(\"C:\\\\Users\\\\kumar\\\\SA2021_W3_Data.csv\")\n",
    "df"
   ]
  },
  {
   "cell_type": "code",
   "execution_count": 12,
   "metadata": {
    "id": "mxownAh7vpa1"
   },
   "outputs": [
    {
     "data": {
      "text/plain": [
       "(24196, 23)"
      ]
     },
     "execution_count": 12,
     "metadata": {},
     "output_type": "execute_result"
    }
   ],
   "source": [
    "## Checking the shape of data.##\n",
    "df.shape\n"
   ]
  },
  {
   "cell_type": "code",
   "execution_count": 13,
   "metadata": {
    "id": "sMBhA4H3vpa1"
   },
   "outputs": [
    {
     "data": {
      "text/html": [
       "<div>\n",
       "<style scoped>\n",
       "    .dataframe tbody tr th:only-of-type {\n",
       "        vertical-align: middle;\n",
       "    }\n",
       "\n",
       "    .dataframe tbody tr th {\n",
       "        vertical-align: top;\n",
       "    }\n",
       "\n",
       "    .dataframe thead th {\n",
       "        text-align: right;\n",
       "    }\n",
       "</style>\n",
       "<table border=\"1\" class=\"dataframe\">\n",
       "  <thead>\n",
       "    <tr style=\"text-align: right;\">\n",
       "      <th></th>\n",
       "      <th>Date</th>\n",
       "      <th>Location</th>\n",
       "      <th>MinTemp</th>\n",
       "      <th>MaxTemp</th>\n",
       "      <th>Rainfall</th>\n",
       "      <th>Evaporation</th>\n",
       "      <th>Sunshine</th>\n",
       "      <th>WindGustDir</th>\n",
       "      <th>WindGustSpeed</th>\n",
       "      <th>WindDir9am</th>\n",
       "      <th>...</th>\n",
       "      <th>Humidity9am</th>\n",
       "      <th>Humidity3pm</th>\n",
       "      <th>Pressure9am</th>\n",
       "      <th>Pressure3pm</th>\n",
       "      <th>Cloud9am</th>\n",
       "      <th>Cloud3pm</th>\n",
       "      <th>Temp9am</th>\n",
       "      <th>Temp3pm</th>\n",
       "      <th>RainToday</th>\n",
       "      <th>RainTomorrow</th>\n",
       "    </tr>\n",
       "  </thead>\n",
       "  <tbody>\n",
       "    <tr>\n",
       "      <th>count</th>\n",
       "      <td>24196.000000</td>\n",
       "      <td>24196.000000</td>\n",
       "      <td>24196.000000</td>\n",
       "      <td>24196.000000</td>\n",
       "      <td>24196.000000</td>\n",
       "      <td>24196.000000</td>\n",
       "      <td>24196.000000</td>\n",
       "      <td>24196.000000</td>\n",
       "      <td>24196.000000</td>\n",
       "      <td>24196.000000</td>\n",
       "      <td>...</td>\n",
       "      <td>24196.000000</td>\n",
       "      <td>24196.000000</td>\n",
       "      <td>24196.000000</td>\n",
       "      <td>24196.000000</td>\n",
       "      <td>24196.000000</td>\n",
       "      <td>24196.000000</td>\n",
       "      <td>24196.000000</td>\n",
       "      <td>24196.000000</td>\n",
       "      <td>24196.000000</td>\n",
       "      <td>24196.000000</td>\n",
       "    </tr>\n",
       "    <tr>\n",
       "      <th>mean</th>\n",
       "      <td>1702.554430</td>\n",
       "      <td>11.126880</td>\n",
       "      <td>13.281232</td>\n",
       "      <td>23.124078</td>\n",
       "      <td>3.008857</td>\n",
       "      <td>5.114329</td>\n",
       "      <td>6.700591</td>\n",
       "      <td>7.752273</td>\n",
       "      <td>42.371880</td>\n",
       "      <td>7.315424</td>\n",
       "      <td>...</td>\n",
       "      <td>69.505621</td>\n",
       "      <td>55.335345</td>\n",
       "      <td>1016.774682</td>\n",
       "      <td>1014.508518</td>\n",
       "      <td>4.767152</td>\n",
       "      <td>4.926682</td>\n",
       "      <td>17.609216</td>\n",
       "      <td>21.493420</td>\n",
       "      <td>0.293396</td>\n",
       "      <td>0.453918</td>\n",
       "    </tr>\n",
       "    <tr>\n",
       "      <th>std</th>\n",
       "      <td>837.645705</td>\n",
       "      <td>6.397324</td>\n",
       "      <td>6.084032</td>\n",
       "      <td>6.681013</td>\n",
       "      <td>8.399269</td>\n",
       "      <td>3.549384</td>\n",
       "      <td>3.958287</td>\n",
       "      <td>4.788052</td>\n",
       "      <td>14.221336</td>\n",
       "      <td>4.634019</td>\n",
       "      <td>...</td>\n",
       "      <td>17.671186</td>\n",
       "      <td>20.907040</td>\n",
       "      <td>6.987625</td>\n",
       "      <td>6.877345</td>\n",
       "      <td>2.741416</td>\n",
       "      <td>2.586083</td>\n",
       "      <td>6.189396</td>\n",
       "      <td>6.535474</td>\n",
       "      <td>0.455328</td>\n",
       "      <td>0.497882</td>\n",
       "    </tr>\n",
       "    <tr>\n",
       "      <th>min</th>\n",
       "      <td>0.000000</td>\n",
       "      <td>0.000000</td>\n",
       "      <td>-4.700000</td>\n",
       "      <td>4.100000</td>\n",
       "      <td>0.000000</td>\n",
       "      <td>0.000000</td>\n",
       "      <td>0.000000</td>\n",
       "      <td>0.000000</td>\n",
       "      <td>9.000000</td>\n",
       "      <td>0.000000</td>\n",
       "      <td>...</td>\n",
       "      <td>3.000000</td>\n",
       "      <td>0.000000</td>\n",
       "      <td>980.500000</td>\n",
       "      <td>979.000000</td>\n",
       "      <td>0.000000</td>\n",
       "      <td>0.000000</td>\n",
       "      <td>-0.700000</td>\n",
       "      <td>3.700000</td>\n",
       "      <td>0.000000</td>\n",
       "      <td>0.000000</td>\n",
       "    </tr>\n",
       "    <tr>\n",
       "      <th>25%</th>\n",
       "      <td>984.000000</td>\n",
       "      <td>6.000000</td>\n",
       "      <td>8.600000</td>\n",
       "      <td>17.900000</td>\n",
       "      <td>0.000000</td>\n",
       "      <td>2.400000</td>\n",
       "      <td>3.400000</td>\n",
       "      <td>3.000000</td>\n",
       "      <td>31.000000</td>\n",
       "      <td>3.000000</td>\n",
       "      <td>...</td>\n",
       "      <td>58.000000</td>\n",
       "      <td>41.000000</td>\n",
       "      <td>1012.200000</td>\n",
       "      <td>1009.900000</td>\n",
       "      <td>2.000000</td>\n",
       "      <td>3.000000</td>\n",
       "      <td>12.700000</td>\n",
       "      <td>16.500000</td>\n",
       "      <td>0.000000</td>\n",
       "      <td>0.000000</td>\n",
       "    </tr>\n",
       "    <tr>\n",
       "      <th>50%</th>\n",
       "      <td>1651.000000</td>\n",
       "      <td>11.000000</td>\n",
       "      <td>13.100000</td>\n",
       "      <td>22.700000</td>\n",
       "      <td>0.000000</td>\n",
       "      <td>4.400000</td>\n",
       "      <td>7.200000</td>\n",
       "      <td>8.000000</td>\n",
       "      <td>41.000000</td>\n",
       "      <td>7.000000</td>\n",
       "      <td>...</td>\n",
       "      <td>70.000000</td>\n",
       "      <td>56.000000</td>\n",
       "      <td>1016.800000</td>\n",
       "      <td>1014.400000</td>\n",
       "      <td>6.000000</td>\n",
       "      <td>6.000000</td>\n",
       "      <td>17.300000</td>\n",
       "      <td>21.100000</td>\n",
       "      <td>0.000000</td>\n",
       "      <td>0.000000</td>\n",
       "    </tr>\n",
       "    <tr>\n",
       "      <th>75%</th>\n",
       "      <td>2381.000000</td>\n",
       "      <td>17.000000</td>\n",
       "      <td>18.000000</td>\n",
       "      <td>28.100000</td>\n",
       "      <td>1.800000</td>\n",
       "      <td>7.000000</td>\n",
       "      <td>10.000000</td>\n",
       "      <td>12.000000</td>\n",
       "      <td>50.000000</td>\n",
       "      <td>11.000000</td>\n",
       "      <td>...</td>\n",
       "      <td>83.000000</td>\n",
       "      <td>70.000000</td>\n",
       "      <td>1021.400000</td>\n",
       "      <td>1019.000000</td>\n",
       "      <td>7.000000</td>\n",
       "      <td>7.000000</td>\n",
       "      <td>22.300000</td>\n",
       "      <td>26.200000</td>\n",
       "      <td>1.000000</td>\n",
       "      <td>1.000000</td>\n",
       "    </tr>\n",
       "    <tr>\n",
       "      <th>max</th>\n",
       "      <td>3415.000000</td>\n",
       "      <td>22.000000</td>\n",
       "      <td>31.400000</td>\n",
       "      <td>46.800000</td>\n",
       "      <td>206.200000</td>\n",
       "      <td>59.800000</td>\n",
       "      <td>14.500000</td>\n",
       "      <td>15.000000</td>\n",
       "      <td>122.000000</td>\n",
       "      <td>15.000000</td>\n",
       "      <td>...</td>\n",
       "      <td>100.000000</td>\n",
       "      <td>100.000000</td>\n",
       "      <td>1040.200000</td>\n",
       "      <td>1037.000000</td>\n",
       "      <td>8.000000</td>\n",
       "      <td>9.000000</td>\n",
       "      <td>39.400000</td>\n",
       "      <td>46.100000</td>\n",
       "      <td>1.000000</td>\n",
       "      <td>1.000000</td>\n",
       "    </tr>\n",
       "  </tbody>\n",
       "</table>\n",
       "<p>8 rows × 23 columns</p>\n",
       "</div>"
      ],
      "text/plain": [
       "               Date      Location       MinTemp       MaxTemp      Rainfall  \\\n",
       "count  24196.000000  24196.000000  24196.000000  24196.000000  24196.000000   \n",
       "mean    1702.554430     11.126880     13.281232     23.124078      3.008857   \n",
       "std      837.645705      6.397324      6.084032      6.681013      8.399269   \n",
       "min        0.000000      0.000000     -4.700000      4.100000      0.000000   \n",
       "25%      984.000000      6.000000      8.600000     17.900000      0.000000   \n",
       "50%     1651.000000     11.000000     13.100000     22.700000      0.000000   \n",
       "75%     2381.000000     17.000000     18.000000     28.100000      1.800000   \n",
       "max     3415.000000     22.000000     31.400000     46.800000    206.200000   \n",
       "\n",
       "        Evaporation      Sunshine   WindGustDir  WindGustSpeed    WindDir9am  \\\n",
       "count  24196.000000  24196.000000  24196.000000   24196.000000  24196.000000   \n",
       "mean       5.114329      6.700591      7.752273      42.371880      7.315424   \n",
       "std        3.549384      3.958287      4.788052      14.221336      4.634019   \n",
       "min        0.000000      0.000000      0.000000       9.000000      0.000000   \n",
       "25%        2.400000      3.400000      3.000000      31.000000      3.000000   \n",
       "50%        4.400000      7.200000      8.000000      41.000000      7.000000   \n",
       "75%        7.000000     10.000000     12.000000      50.000000     11.000000   \n",
       "max       59.800000     14.500000     15.000000     122.000000     15.000000   \n",
       "\n",
       "       ...   Humidity9am   Humidity3pm   Pressure9am   Pressure3pm  \\\n",
       "count  ...  24196.000000  24196.000000  24196.000000  24196.000000   \n",
       "mean   ...     69.505621     55.335345   1016.774682   1014.508518   \n",
       "std    ...     17.671186     20.907040      6.987625      6.877345   \n",
       "min    ...      3.000000      0.000000    980.500000    979.000000   \n",
       "25%    ...     58.000000     41.000000   1012.200000   1009.900000   \n",
       "50%    ...     70.000000     56.000000   1016.800000   1014.400000   \n",
       "75%    ...     83.000000     70.000000   1021.400000   1019.000000   \n",
       "max    ...    100.000000    100.000000   1040.200000   1037.000000   \n",
       "\n",
       "           Cloud9am      Cloud3pm       Temp9am       Temp3pm     RainToday  \\\n",
       "count  24196.000000  24196.000000  24196.000000  24196.000000  24196.000000   \n",
       "mean       4.767152      4.926682     17.609216     21.493420      0.293396   \n",
       "std        2.741416      2.586083      6.189396      6.535474      0.455328   \n",
       "min        0.000000      0.000000     -0.700000      3.700000      0.000000   \n",
       "25%        2.000000      3.000000     12.700000     16.500000      0.000000   \n",
       "50%        6.000000      6.000000     17.300000     21.100000      0.000000   \n",
       "75%        7.000000      7.000000     22.300000     26.200000      1.000000   \n",
       "max        8.000000      9.000000     39.400000     46.100000      1.000000   \n",
       "\n",
       "       RainTomorrow  \n",
       "count  24196.000000  \n",
       "mean       0.453918  \n",
       "std        0.497882  \n",
       "min        0.000000  \n",
       "25%        0.000000  \n",
       "50%        0.000000  \n",
       "75%        1.000000  \n",
       "max        1.000000  \n",
       "\n",
       "[8 rows x 23 columns]"
      ]
     },
     "execution_count": 13,
     "metadata": {},
     "output_type": "execute_result"
    }
   ],
   "source": [
    "## Applying describe on dataframe ##\n",
    "df.describe()"
   ]
  },
  {
   "cell_type": "markdown",
   "metadata": {
    "id": "0rh7Jr4tvpa1"
   },
   "source": [
    "<h1 style=\"background-color:#ABFF9B;font-size:20px;color:#00033E;font-weight : bold\">Checking if there is any missing values in the dataset </h1>"
   ]
  },
  {
   "cell_type": "code",
   "execution_count": 15,
   "metadata": {
    "id": "4z466pWsvpa1"
   },
   "outputs": [
    {
     "data": {
      "text/plain": [
       "Date             0\n",
       "Location         0\n",
       "MinTemp          0\n",
       "MaxTemp          0\n",
       "Rainfall         0\n",
       "Evaporation      0\n",
       "Sunshine         0\n",
       "WindGustDir      0\n",
       "WindGustSpeed    0\n",
       "WindDir9am       0\n",
       "WindDir3pm       0\n",
       "WindSpeed9am     0\n",
       "WindSpeed3pm     0\n",
       "Humidity9am      0\n",
       "Humidity3pm      0\n",
       "Pressure9am      0\n",
       "Pressure3pm      0\n",
       "Cloud9am         0\n",
       "Cloud3pm         0\n",
       "Temp9am          0\n",
       "Temp3pm          0\n",
       "RainToday        0\n",
       "RainTomorrow     0\n",
       "dtype: int64"
      ]
     },
     "execution_count": 15,
     "metadata": {},
     "output_type": "execute_result"
    }
   ],
   "source": [
    "df.isna().sum()\n",
    "\n",
    "# Y = df.RainTomorrow.values\n",
    "# X = df.drop('RainTomorrow', axis=1)\n",
    "\n",
    "\n"
   ]
  },
  {
   "cell_type": "markdown",
   "metadata": {
    "id": "c-BNxcmrvpa2"
   },
   "source": [
    "<h1 style=\"background-color:#ABFF9B;font-size:20px;color:#00033E;font-weight : bold\">Separating target variable :</h1>"
   ]
  },
  {
   "cell_type": "code",
   "execution_count": 17,
   "metadata": {
    "id": "FZmvqTMxvpa2"
   },
   "outputs": [],
   "source": [
    "\n",
    "Y = df.RainTomorrow.values\n",
    "X = df.drop('RainTomorrow', axis=1)\n",
    "\n",
    "\n"
   ]
  },
  {
   "cell_type": "markdown",
   "metadata": {
    "id": "pm9NZc9Bvpa2"
   },
   "source": [
    "<h1 style=\"background-color:#ABFF9B;font-size:20px;color:#00033E;font-weight : bold\">Spliting the data into train and test.</h1>"
   ]
  },
  {
   "cell_type": "code",
   "execution_count": 18,
   "metadata": {
    "id": "ENos_-58vpa2"
   },
   "outputs": [],
   "source": [
    "from sklearn.model_selection import train_test_split\n",
    "\n",
    "X_train, X_test, Y_train, Y_test = train_test_split(X, Y, test_size=0.25, random_state=2021)\n",
    "\n"
   ]
  },
  {
   "cell_type": "code",
   "execution_count": 19,
   "metadata": {
    "id": "9z0dhowPvpa2"
   },
   "outputs": [
    {
     "name": "stdout",
     "output_type": "stream",
     "text": [
      "x_train shape is:  (18147, 22)\n",
      "y_train shape is:  (18147,)\n",
      "x_test shape is:  (6049, 22)\n",
      "y_test shape is:  (6049,)\n"
     ]
    }
   ],
   "source": [
    "X_train.shape\n",
    "X_test.shape\n",
    "Y_train.shape\n",
    "Y_test.shape\n",
    "\n",
    "\n",
    "## Let us print the shapes:\n",
    "    \n",
    "\n",
    "print('x_train shape is: ', X_train.shape)\n",
    "print('y_train shape is: ', Y_train.shape)\n",
    "print('x_test shape is: ', X_test.shape)\n",
    "print('y_test shape is: ', Y_test.shape)\n",
    "\n",
    "## ================================ ##"
   ]
  },
  {
   "cell_type": "markdown",
   "metadata": {
    "id": "qgbT2Gqdvpa3"
   },
   "source": [
    "<h1 style=\"background-color:#ABFF9B;font-size:20px;color:#00033E;font-weight : bold\">Scaling the data using Standard Scaler :</h1>"
   ]
  },
  {
   "cell_type": "code",
   "execution_count": 20,
   "metadata": {
    "id": "3n7PsXYnvpa3"
   },
   "outputs": [],
   "source": [
    "scaler = StandardScaler()\n",
    "# transform data\n",
    "scaled = scaler.fit_transform(X_train)\n",
    "scaled = scaler.fit_transform(X_test)\n",
    "\n",
    "\n"
   ]
  },
  {
   "cell_type": "markdown",
   "metadata": {
    "id": "IY8VC5sBvpa3"
   },
   "source": [
    "<h1 style=\"background-color:#ABFF9B;font-size:20px;color:#00033E;font-weight : bold\">Training a Logistic Regression </h1>"
   ]
  },
  {
   "cell_type": "code",
   "execution_count": 21,
   "metadata": {
    "id": "8vZV0RUhvpa3"
   },
   "outputs": [],
   "source": [
    "from sklearn.linear_model import LogisticRegression\n",
    "clf = LogisticRegression(random_state=2021).fit(X_train, Y_train)\n",
    "y_predict = clf.predict(X_test)"
   ]
  },
  {
   "cell_type": "markdown",
   "metadata": {
    "id": "bnmjHAupvpa4"
   },
   "source": [
    "<h1 style=\"background-color:#ABFF9B;font-size:20px;color:#00033E;font-weight : bold\">Ploting Confusion Matrix using plot_confusion_matrix module :</h1>"
   ]
  },
  {
   "cell_type": "code",
   "execution_count": 22,
   "metadata": {
    "id": "E1SXfdSUvpa4"
   },
   "outputs": [
    {
     "data": {
      "image/png": "[encoded data removed]",
      "text/plain": [
       "<Figure size 432x288 with 2 Axes>"
      ]
     },
     "metadata": {
      "needs_background": "light"
     },
     "output_type": "display_data"
    }
   ],
   "source": [
    "plot_confusion_matrix(clf, X_test, Y_test)  \n",
    "plt.show()\n",
    "\n"
   ]
  },
  {
   "cell_type": "markdown",
   "metadata": {
    "id": "pgN165X7vpa4"
   },
   "source": [
    "<h1 style=\"background-color:#ABFF9B;font-size:20px;color:#00033E;font-weight : bold\">Classification Report for LR :</h1>"
   ]
  },
  {
   "cell_type": "code",
   "execution_count": 23,
   "metadata": {
    "id": "FzcnzDD9vpa4"
   },
   "outputs": [
    {
     "name": "stdout",
     "output_type": "stream",
     "text": [
      "              precision    recall  f1-score   support\n",
      "\n",
      "           0       0.79      0.82      0.81      3300\n",
      "           1       0.78      0.74      0.76      2749\n",
      "\n",
      "    accuracy                           0.78      6049\n",
      "   macro avg       0.78      0.78      0.78      6049\n",
      "weighted avg       0.78      0.78      0.78      6049\n",
      "\n"
     ]
    }
   ],
   "source": [
    "print(classification_report(Y_test, y_predict))\n",
    "\n"
   ]
  },
  {
   "cell_type": "markdown",
   "metadata": {
    "id": "Xle8Hr2vvpa4"
   },
   "source": [
    "<h1 style=\"background-color:#ABFF9B;font-size:20px;color:#00033E;font-weight : bold\">Training and Testing Score along with Accuracy score for LR :</h1> "
   ]
  },
  {
   "cell_type": "code",
   "execution_count": 24,
   "metadata": {
    "id": "ND1kWpJMvpa5"
   },
   "outputs": [
    {
     "name": "stdout",
     "output_type": "stream",
     "text": [
      "Train Accuracy: 0.7909296302419133\n",
      "Test Accuracy: 0.7842618614647049\n"
     ]
    }
   ],
   "source": [
    "print(\"Train Accuracy:\",clf.score(X_train, Y_train))\n",
    "print(\"Test Accuracy:\",clf.score(X_test, Y_test))\n",
    "\n"
   ]
  },
  {
   "cell_type": "code",
   "execution_count": 25,
   "metadata": {
    "id": "jm3sW4ZTvpa5"
   },
   "outputs": [
    {
     "name": "stdout",
     "output_type": "stream",
     "text": [
      "0.7842618614647049\n"
     ]
    }
   ],
   "source": [
    "print(accuracy_score(Y_test, y_predict))\n",
    "\n"
   ]
  },
  {
   "cell_type": "markdown",
   "metadata": {
    "id": "T16gbfRQvpa5"
   },
   "source": [
    "<h1 style=\"background-color:#ABFF9B;font-size:20px;color:#00033E;font-weight : bold\">ROC - AUC Score for LR :</h1> "
   ]
  },
  {
   "cell_type": "code",
   "execution_count": 26,
   "metadata": {
    "id": "IV0ubSL9vpa5"
   },
   "outputs": [
    {
     "name": "stdout",
     "output_type": "stream",
     "text": [
      "0.780194340641776\n"
     ]
    }
   ],
   "source": [
    "print(roc_auc_score(Y_test, y_predict))\n",
    "\n"
   ]
  },
  {
   "cell_type": "markdown",
   "metadata": {
    "id": "og34rzbSvpa5"
   },
   "source": [
    "<h1 style=\"background-color:#ABFF9B;font-size:20px;color:#00033E;font-weight : bold\">Training SVM with C = 50 and gamma = scale :</h1>"
   ]
  },
  {
   "cell_type": "code",
   "execution_count": 27,
   "metadata": {
    "id": "_fw1j2cxvpa5"
   },
   "outputs": [],
   "source": [
    "svm = SVC(probability=True, gamma='scale', C=50)\n",
    "svm.fit(X_train, Y_train)\n",
    "svm_predict = svm.predict(X_test)\n",
    "\n",
    "\n"
   ]
  },
  {
   "cell_type": "markdown",
   "metadata": {
    "id": "y8VRDRHXvpa6"
   },
   "source": [
    "<h1 style=\"background-color:#ABFF9B;font-size:20px;color:#00033E;font-weight : bold\">Confusion Matrix for SVM :</h1>"
   ]
  },
  {
   "cell_type": "code",
   "execution_count": 28,
   "metadata": {
    "id": "1TTVlekPvpa6"
   },
   "outputs": [
    {
     "data": {
      "image/png": "[encoded data removed]",
      "text/plain": [
       "<Figure size 432x288 with 2 Axes>"
      ]
     },
     "metadata": {
      "needs_background": "light"
     },
     "output_type": "display_data"
    }
   ],
   "source": [
    "plot_confusion_matrix(svm, X_test, Y_test)  \n",
    "plt.show()\n",
    "\n",
    "\n"
   ]
  },
  {
   "cell_type": "markdown",
   "metadata": {
    "id": "TNWvmLSivpa6"
   },
   "source": [
    "<h1 style=\"background-color:#ABFF9B;font-size:20px;color:#00033E;font-weight : bold\">Classification Report for SVM :</h1>"
   ]
  },
  {
   "cell_type": "code",
   "execution_count": 29,
   "metadata": {
    "id": "yQDf6wOdvpa6"
   },
   "outputs": [
    {
     "name": "stdout",
     "output_type": "stream",
     "text": [
      "              precision    recall  f1-score   support\n",
      "\n",
      "           0       0.78      0.84      0.81      3300\n",
      "           1       0.79      0.72      0.75      2749\n",
      "\n",
      "    accuracy                           0.79      6049\n",
      "   macro avg       0.79      0.78      0.78      6049\n",
      "weighted avg       0.79      0.79      0.79      6049\n",
      "\n"
     ]
    }
   ],
   "source": [
    "svm_predict = svm.predict(X_test)\n",
    "\n",
    "print(classification_report(Y_test, svm_predict))\n",
    "\n"
   ]
  },
  {
   "cell_type": "markdown",
   "metadata": {
    "id": "SfF49qwIvpa7"
   },
   "source": [
    "<h1 style=\"background-color:#ABFF9B;font-size:20px;color:#00033E;font-weight : bold\">Accuracy score for SVM :</h1>"
   ]
  },
  {
   "cell_type": "code",
   "execution_count": 30,
   "metadata": {
    "id": "lH1lkfsFvpa7"
   },
   "outputs": [
    {
     "name": "stdout",
     "output_type": "stream",
     "text": [
      "0.7864109770209952\n"
     ]
    }
   ],
   "source": [
    "\n",
    "print(accuracy_score(Y_test, svm_predict))\n"
   ]
  },
  {
   "cell_type": "markdown",
   "metadata": {
    "id": "0tlgy05Jvpa7"
   },
   "source": [
    "<h1 style=\"background-color:#ABFF9B;font-size:20px;color:#00033E;font-weight : bold\">Training and Testing Score for SVM :</h1> "
   ]
  },
  {
   "cell_type": "code",
   "execution_count": 31,
   "metadata": {
    "id": "yqofS78Xvpa7"
   },
   "outputs": [
    {
     "name": "stdout",
     "output_type": "stream",
     "text": [
      "0.7864109770209952\n",
      "0.7941808563398909\n"
     ]
    }
   ],
   "source": [
    "print(svm.score(X_test, Y_test))\n",
    "print(svm.score(X_train, Y_train))\n",
    "\n"
   ]
  },
  {
   "cell_type": "markdown",
   "metadata": {
    "id": "Ti_PCgHpvpa7"
   },
   "source": [
    "<h1 style=\"background-color:#ABFF9B;font-size:20px;color:#00033E;font-weight : bold\">ROC - AUC score for SVM :</h1> "
   ]
  },
  {
   "cell_type": "code",
   "execution_count": 32,
   "metadata": {
    "id": "iml9q7hrvpa8"
   },
   "outputs": [
    {
     "name": "stdout",
     "output_type": "stream",
     "text": [
      "0.7807974249589382\n"
     ]
    }
   ],
   "source": [
    "print(roc_auc_score(Y_test, svm_predict))\n",
    "\n"
   ]
  },
  {
   "cell_type": "markdown",
   "metadata": {
    "id": "YmpeyKWWvpa8"
   },
   "source": [
    "<h1 style=\"background-color:#ABFF9B;font-size:20px;color:#00033E;font-weight : bold\">Training SVM with C = 1 and gamma = scale :</h1> "
   ]
  },
  {
   "cell_type": "code",
   "execution_count": 33,
   "metadata": {
    "id": "z9mfbGb9vpa8"
   },
   "outputs": [],
   "source": [
    "svm2 = SVC(gamma='scale', C=1)\n",
    "svm2.fit(X_train, Y_train)\n",
    "svm2_predict = svm2.predict(X_test)\n",
    "\n"
   ]
  },
  {
   "cell_type": "markdown",
   "metadata": {
    "id": "pKOp4Cbyvpa9"
   },
   "source": [
    "<h1 style=\"background-color:#ABFF9B;font-size:20px;color:#00033E;font-weight : bold\">Classification Report for new SVM :</h1>"
   ]
  },
  {
   "cell_type": "code",
   "execution_count": 34,
   "metadata": {
    "id": "dPLlDBz0vpa9"
   },
   "outputs": [
    {
     "name": "stdout",
     "output_type": "stream",
     "text": [
      "              precision    recall  f1-score   support\n",
      "\n",
      "           0       0.74      0.87      0.80      3300\n",
      "           1       0.80      0.63      0.70      2749\n",
      "\n",
      "    accuracy                           0.76      6049\n",
      "   macro avg       0.77      0.75      0.75      6049\n",
      "weighted avg       0.76      0.76      0.75      6049\n",
      "\n"
     ]
    }
   ],
   "source": [
    "print(classification_report(Y_test, svm2_predict))\n"
   ]
  },
  {
   "cell_type": "markdown",
   "metadata": {
    "id": "c71VaRy9vpa9"
   },
   "source": [
    "<h1 style=\"background-color:#ABFF9B;font-size:20px;color:#00033E;font-weight : bold\">ROC - AUC score for the new SVM :</h1> "
   ]
  },
  {
   "cell_type": "code",
   "execution_count": 35,
   "metadata": {
    "id": "iT8NNVKkvpa9"
   },
   "outputs": [
    {
     "name": "stdout",
     "output_type": "stream",
     "text": [
      "0.7475082950273929\n"
     ]
    }
   ],
   "source": [
    "print(roc_auc_score(Y_test, svm2_predict))\n",
    "\n"
   ]
  },
  {
   "cell_type": "markdown",
   "metadata": {
    "id": "6tlhrJ8qvpa-"
   },
   "source": [
    "<h1 style=\"background-color:#ABFF9B;font-size:20px;color:#00033E;font-weight : bold\">Confusion matrix and accuracy score for the new SVM :</h1> "
   ]
  },
  {
   "cell_type": "code",
   "execution_count": 36,
   "metadata": {
    "id": "AnydqRTQvpa-"
   },
   "outputs": [
    {
     "data": {
      "image/png": "[encoded data removed]",
      "text/plain": [
       "<Figure size 432x288 with 2 Axes>"
      ]
     },
     "metadata": {
      "needs_background": "light"
     },
     "output_type": "display_data"
    }
   ],
   "source": [
    "plot_confusion_matrix(svm2, X_test, Y_test)  \n",
    "plt.show()\n",
    "\n"
   ]
  },
  {
   "cell_type": "code",
   "execution_count": 37,
   "metadata": {
    "id": "epvTM-Tcvpa-"
   },
   "outputs": [
    {
     "name": "stdout",
     "output_type": "stream",
     "text": [
      "0.7583071582079682\n"
     ]
    }
   ],
   "source": [
    "print(accuracy_score(Y_test, svm2_predict))\n"
   ]
  },
  {
   "cell_type": "markdown",
   "metadata": {
    "id": "wwVQ1LTKvpa-"
   },
   "source": [
    "<h1 style=\"background-color:#ABFF9B;font-size:20px;color:#00033E;font-weight : bold\">Average Cross-Val score for the new SVM with 5 folds  :</h1> "
   ]
  },
  {
   "cell_type": "code",
   "execution_count": 38,
   "metadata": {
    "id": "jC0bK5Fsvpa-"
   },
   "outputs": [
    {
     "name": "stdout",
     "output_type": "stream",
     "text": [
      "0.7683091496603869\n"
     ]
    }
   ],
   "source": [
    "scores = cross_val_score(svm2, X, Y, cv=5)\n",
    "\n",
    "print(scores.mean())\n",
    "\n",
    "\n",
    "\n"
   ]
  },
  {
   "cell_type": "markdown",
   "metadata": {
    "id": "QxWC2wNLvpa-"
   },
   "source": [
    "<br>\n",
    "<h1 style = \"font-size:30px; font-family:Brush Script MT ; font-weight : bold; color : #0331A8; text-align: center; border-radius: 10px 10px;\">The End</h1>\n",
    "<br>"
   ]
  }
 ],
 "metadata": {
  "colab": {
   "name": "SA2021_W3.ipynb",
   "provenance": []
  },
  "kernelspec": {
   "display_name": "Python 3",
   "language": "python",
   "name": "python3"
  },
  "language_info": {
   "codemirror_mode": {
    "name": "ipython",
    "version": 3
   },
   "file_extension": ".py",
   "mimetype": "text/x-python",
   "name": "python",
   "nbconvert_exporter": "python",
   "pygments_lexer": "ipython3",
   "version": "3.8.8"
  }
 },
 "nbformat": 4,
 "nbformat_minor": 1
}
